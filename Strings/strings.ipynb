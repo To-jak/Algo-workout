{
 "cells": [
  {
   "cell_type": "markdown",
   "metadata": {},
   "source": [
    "# Strings"
   ]
  },
  {
   "cell_type": "markdown",
   "metadata": {},
   "source": [
    "## Palindrome Check\n",
    "  \n",
    "Write a function that takes in a non-empty string and that returns a boolean representing whether or not the string is a palindrome. A palindrome is dened as a string that is written the same forward and backward."
   ]
  },
  {
   "cell_type": "code",
   "execution_count": 1,
   "metadata": {},
   "outputs": [],
   "source": [
    "# Iterative solution\n",
    "def isPalindrome(string):\n",
    "    left = 0\n",
    "    right = len(string) - 1\n",
    "    while left < right:\n",
    "        if string[left] != string[right]:\n",
    "            return False\n",
    "        left += 1\n",
    "        right -= 1\n",
    "    return True"
   ]
  },
  {
   "cell_type": "code",
   "execution_count": 2,
   "metadata": {},
   "outputs": [
    {
     "name": "stdout",
     "output_type": "stream",
     "text": [
      "True\n"
     ]
    }
   ],
   "source": [
    "test_string = 'abcdcba'\n",
    "print(isPalindrome(test_string))"
   ]
  },
  {
   "cell_type": "code",
   "execution_count": null,
   "metadata": {},
   "outputs": [],
   "source": []
  },
  {
   "cell_type": "markdown",
   "metadata": {},
   "source": [
    "## Caesar Cipher Encryptor\n",
    "\n",
    "Given a non-empty string of lowercase letters and a non-negative integer value representing a key, write a function that returns a new string obtained by shifting every letter in the input string by k positions in the alphabet, where k is the key. Note that letters should \"wrap\" around the alphabet; in other words, the letter \"z\" shifted by 1 returns the letter \"a\"."
   ]
  },
  {
   "cell_type": "code",
   "execution_count": 1,
   "metadata": {},
   "outputs": [],
   "source": [
    "def caesarCipherEncryptor(string, key):\n",
    "    ascii_translation = ord('a')\n",
    "    coded_string = []\n",
    "\n",
    "    for letter in string:\n",
    "        letter_code = ord(letter)\n",
    "        letter_code -= ascii_translation\n",
    "        letter_code += key\n",
    "        letter_code %= 26\n",
    "        letter_code += ascii_translation\n",
    "        coded_string.append(chr(letter_code))\n",
    "    return ''.join(coded_string)"
   ]
  },
  {
   "cell_type": "code",
   "execution_count": 3,
   "metadata": {},
   "outputs": [
    {
     "name": "stdout",
     "output_type": "stream",
     "text": [
      "True\n"
     ]
    }
   ],
   "source": [
    "test_string = 'xyz'\n",
    "print(caesarCipherEncryptor(test_string, 2) == 'zab')"
   ]
  }
 ],
 "metadata": {
  "kernelspec": {
   "display_name": "Python 3",
   "language": "python",
   "name": "python3"
  },
  "language_info": {
   "codemirror_mode": {
    "name": "ipython",
    "version": 3
   },
   "file_extension": ".py",
   "mimetype": "text/x-python",
   "name": "python",
   "nbconvert_exporter": "python",
   "pygments_lexer": "ipython3",
   "version": "3.7.1"
  }
 },
 "nbformat": 4,
 "nbformat_minor": 2
}
