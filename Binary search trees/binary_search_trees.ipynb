{
 "cells": [
  {
   "cell_type": "markdown",
   "metadata": {},
   "source": [
    "# Binary search trees"
   ]
  },
  {
   "cell_type": "markdown",
   "metadata": {},
   "source": [
    "## BST construction"
   ]
  },
  {
   "cell_type": "code",
   "execution_count": 1,
   "metadata": {},
   "outputs": [],
   "source": [
    "class BST:\n",
    "    def __init__(self, value):\n",
    "        self.value = value\n",
    "        self.left = None\n",
    "        self.right = None\n",
    "\n",
    "    def insert(self, value):\n",
    "        current_node = self\n",
    "        is_inserted = False\n",
    "        while is_inserted == False:\n",
    "            if current_node.value > value:\n",
    "                if current_node.left is not None:\n",
    "                    current_node = current_node.left\n",
    "                else:\n",
    "                    current_node.left = BST(value)\n",
    "                    is_inserted = True\n",
    "            if current_node.value <= value:\n",
    "                if current_node.right is not None:\n",
    "                    current_node = current_node.right\n",
    "                else:\n",
    "                    current_node.right = BST(value)\n",
    "                    is_inserted = True\n",
    "        return self\n",
    "\n",
    "    def contains(self, value):\n",
    "        current_node = self\n",
    "        while True:\n",
    "            if current_node is None:\n",
    "                return False\n",
    "            if current_node.value == value:\n",
    "                return True\n",
    "            elif value < current_node.value:\n",
    "                current_node = current_node.left\n",
    "            elif value > current_node.value:\n",
    "                current_node = current_node.right\n",
    "\n",
    "    def getMinValue(self):\n",
    "        current_node = self\n",
    "        while current_node.left is not None:\n",
    "            current_node = current_node.left\n",
    "        return current_node.value\n",
    "\n",
    "    def remove(self, value, parent_node=None):\n",
    "\n",
    "        current_node = self\n",
    "        is_removed = False\n",
    "\n",
    "        while is_removed == False:\n",
    "            if current_node is None:\n",
    "                is_removed = True\n",
    "            elif value < current_node.value:\n",
    "                parent_node, current_node = current_node, current_node.left\n",
    "            elif value > current_node.value:\n",
    "                parent_node, current_node = current_node, current_node.right\n",
    "            else:\n",
    "                if current_node.left is not None and current_node.right is not None:\n",
    "                    current_node.value = current_node.right.getMinValue()\n",
    "                    current_node.right.remove(current_node.value, current_node)\n",
    "                elif parent_node == None:\n",
    "                    return (current_node.left\n",
    "                            if current_node.left is not None\n",
    "                            else current_node.right)\n",
    "                elif current_node.left is not None:\n",
    "                    if parent_node.right == current_node:\n",
    "                        parent_node.right = current_node.left\n",
    "                        is_removed = True\n",
    "                    else:\n",
    "                        parent_node.left = current_node.left\n",
    "                        is_removed = True\n",
    "                elif current_node.right is not None:\n",
    "                    if parent_node.right == current_node:\n",
    "                        parent_node.right = current_node.right\n",
    "                        is_removed = True\n",
    "                    else:\n",
    "                        parent_node.left = current_node.right\n",
    "                        is_removed = True\n",
    "        return self"
   ]
  },
  {
   "cell_type": "markdown",
   "metadata": {},
   "source": [
    "## Validate BST"
   ]
  },
  {
   "cell_type": "code",
   "execution_count": 2,
   "metadata": {},
   "outputs": [],
   "source": [
    "def validateBst(tree, min_val=float(\"-inf\"), max_val=float('inf')):\n",
    "    if tree is None:\n",
    "        return True\n",
    "    \n",
    "    if tree.value >= min_val and tree.value < max_val:\n",
    "        return (validateBst(tree.left, min_val, tree.value)\n",
    "                and\n",
    "                validateBst(tree.right, tree.value, max_val))\n",
    "    else:\n",
    "        return False"
   ]
  },
  {
   "cell_type": "markdown",
   "metadata": {},
   "source": [
    "## BST traversal"
   ]
  },
  {
   "cell_type": "code",
   "execution_count": 3,
   "metadata": {},
   "outputs": [],
   "source": [
    "def inOrderTraverse(tree, array):\n",
    "    if tree is not None:\n",
    "        inOrderTraverse(tree.left, array)\n",
    "        array.append(tree.value)\n",
    "        inOrderTraverse(tree.right, array)\n",
    "    return array\n",
    "\n",
    "def preOrderTraverse(tree, array):\n",
    "    if tree is not None:\n",
    "        array.append(tree.value)\n",
    "        preOrderTraverse(tree.left, array)\n",
    "        preOrderTraverse(tree.right, array)\n",
    "    return array\n",
    "\n",
    "def postOrderTraverse(tree, array):\n",
    "    if tree is not None:\n",
    "        postOrderTraverse(tree.left, array)\n",
    "        postOrderTraverse(tree.right, array)\n",
    "        array.append(tree.value)\n",
    "    return array"
   ]
  }
 ],
 "metadata": {
  "kernelspec": {
   "display_name": "Python 3",
   "language": "python",
   "name": "python3"
  },
  "language_info": {
   "codemirror_mode": {
    "name": "ipython",
    "version": 3
   },
   "file_extension": ".py",
   "mimetype": "text/x-python",
   "name": "python",
   "nbconvert_exporter": "python",
   "pygments_lexer": "ipython3",
   "version": "3.7.1"
  }
 },
 "nbformat": 4,
 "nbformat_minor": 2
}
