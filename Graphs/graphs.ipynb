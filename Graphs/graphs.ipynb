{
 "cells": [
  {
   "cell_type": "markdown",
   "metadata": {},
   "source": [
    "# Graphs"
   ]
  },
  {
   "cell_type": "markdown",
   "metadata": {},
   "source": [
    "## Has single cycle"
   ]
  },
  {
   "cell_type": "code",
   "execution_count": 1,
   "metadata": {},
   "outputs": [],
   "source": [
    "def hasSingleCycle(array):\n",
    "    nb_element_visited = 0\n",
    "    current_index = 0\n",
    "    while nb_element_visited < len(array):\n",
    "        if nb_element_visited > 0 and current_index == 0:\n",
    "            return False\n",
    "        nb_element_visited += 1\n",
    "        current_index = get_next_index(array, current_index)\n",
    "    return current_index == 0\n",
    "\n",
    "def get_next_index(array, current_index):\n",
    "    nb_steps = array[current_index]\n",
    "    new_index = (current_index + nb_steps) % len(array)\n",
    "    return new_index if new_index >=0 else new_index + len(array)"
   ]
  },
  {
   "cell_type": "code",
   "execution_count": 2,
   "metadata": {},
   "outputs": [
    {
     "data": {
      "text/plain": [
       "True"
      ]
     },
     "execution_count": 2,
     "metadata": {},
     "output_type": "execute_result"
    }
   ],
   "source": [
    "test_array = [2, 3, 1, -4, -4, 2]\n",
    "hasSingleCycle(test_array) == True"
   ]
  },
  {
   "cell_type": "markdown",
   "metadata": {},
   "source": [
    "## Breadth first search:"
   ]
  },
  {
   "cell_type": "code",
   "execution_count": 3,
   "metadata": {},
   "outputs": [],
   "source": [
    "class Node:\n",
    "    def __init__(self, name):\n",
    "        self.children = []\n",
    "        self.name = name\n",
    "\n",
    "    def addChild(self, name):\n",
    "        self.children.append(Node(name))\n",
    "        return self\n",
    "\n",
    "    def breadthFirstSearch(self, array):\n",
    "        queue = [self]\n",
    "\n",
    "        while len(queue) > 0:\n",
    "            current = queue.pop(0)\n",
    "            array.append(current.name)\n",
    "            for child in current.children:\n",
    "                queue.append(child)\n",
    "\n",
    "        return array"
   ]
  },
  {
   "cell_type": "markdown",
   "metadata": {},
   "source": [
    "## River size"
   ]
  },
  {
   "cell_type": "code",
   "execution_count": 1,
   "metadata": {},
   "outputs": [],
   "source": [
    "# Depth first search solution\n",
    "def riverSizes(matrix):\n",
    "    sizes = []\n",
    "    visited = [[False for _ in row] for row in matrix]\n",
    "    for i in range(len(matrix)):\n",
    "        for j in range(len(matrix[i])):\n",
    "            if visited[i][j]:\n",
    "                continue\n",
    "            if matrix[i][j] == 0:\n",
    "                visited[i][j] = True\n",
    "                continue\n",
    "            else:\n",
    "                river_size = traverse(i, j, matrix, visited, 0)\n",
    "                sizes.append(river_size)\n",
    "    return sizes\n",
    "\n",
    "def traverse(i, j, matrix, visited, river_size):\n",
    "    visited[i][j] = True\n",
    "    river_size += 1\n",
    "    neighbors = get_neighbors(i, j, matrix)\n",
    "    for neighbor in neighbors:\n",
    "        i = neighbor[0]\n",
    "        j = neighbor[1]\n",
    "        if visited[i][j]:\n",
    "            continue\n",
    "        if matrix[i][j] == 0:\n",
    "            visited[i][j] = True\n",
    "            continue\n",
    "        else:\n",
    "            river_size = traverse(i, j, matrix, visited, river_size)\n",
    "    return river_size\n",
    "\n",
    "def get_neighbors(i, j, matrix):\n",
    "    neighbors = []\n",
    "    if i > 0:\n",
    "        neighbors.append([i - 1, j])\n",
    "    if i < len(matrix) - 1:\n",
    "        neighbors.append([i + 1, j])\n",
    "    if j > 0:\n",
    "        neighbors.append([i, j - 1])\n",
    "    if j < len(matrix[0]) - 1:\n",
    "        neighbors.append([i, j + 1])\n",
    "    return neighbors"
   ]
  },
  {
   "cell_type": "code",
   "execution_count": 2,
   "metadata": {},
   "outputs": [],
   "source": [
    "# Breadth first search solution\n",
    "def riverSizes(matrix):\n",
    "    sizes = []\n",
    "    visited = [[False for value in row] for row in matrix]\n",
    "    for i in range(len(matrix)):\n",
    "        for j in range(len(matrix[i])):\n",
    "            if visited[i][j]:\n",
    "                continue\n",
    "            traverseNode(i, j, matrix, visited, sizes)\n",
    "    return sizes\n",
    "\n",
    "def traverseNode(i, j, matrix, visited, sizes):\n",
    "    currentRiverSize = 0\n",
    "    nodesToExplore = [[i, j]]\n",
    "    while len(nodesToExplore):\n",
    "        currentNode = nodesToExplore.pop()\n",
    "        i = currentNode[0]\n",
    "        j = currentNode[1]\n",
    "        if visited[i][j]:\n",
    "            continue\n",
    "        visited[i][j] = True\n",
    "        if matrix[i][j] == 0:\n",
    "            continue\n",
    "        currentRiverSize += 1\n",
    "        unvisitedNeighbors = getUnvisitedNeighbors(i, j, matrix, visited)\n",
    "        for neighbor in unvisitedNeighbors:\n",
    "            nodesToExplore.append(neighbor)\n",
    "    if currentRiverSize > 0:\n",
    "        sizes.append(currentRiverSize)\n",
    "        \n",
    "def getUnvisitedNeighbors(i, j, matrix, visited):\n",
    "    unvisitedNeighbors = []\n",
    "    if i > 0 and not visited[i - 1][j]:\n",
    "        unvisitedNeighbors.append([i - 1, j])\n",
    "    if i < len(matrix) - 1 and not visited[i + 1][j]:\n",
    "        unvisitedNeighbors.append([i + 1, j])\n",
    "    if j > 0 and not visited[i][j - 1]:\n",
    "        unvisitedNeighbors.append([i, j - 1])\n",
    "    if j < len(matrix[0]) - 1 and not visited[i][j + 1]:\n",
    "        unvisitedNeighbors.append([i, j + 1])\n",
    "    return unvisitedNeighbors"
   ]
  }
 ],
 "metadata": {
  "kernelspec": {
   "display_name": "Python 3",
   "language": "python",
   "name": "python3"
  },
  "language_info": {
   "codemirror_mode": {
    "name": "ipython",
    "version": 3
   },
   "file_extension": ".py",
   "mimetype": "text/x-python",
   "name": "python",
   "nbconvert_exporter": "python",
   "pygments_lexer": "ipython3",
   "version": "3.7.3"
  }
 },
 "nbformat": 4,
 "nbformat_minor": 2
}
