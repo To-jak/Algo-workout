{
 "cells": [
  {
   "cell_type": "markdown",
   "metadata": {},
   "source": [
    "# Graphs"
   ]
  },
  {
   "cell_type": "markdown",
   "metadata": {},
   "source": [
    "## Has single cycle"
   ]
  },
  {
   "cell_type": "code",
   "execution_count": 1,
   "metadata": {},
   "outputs": [],
   "source": [
    "def hasSingleCycle(array):\n",
    "    nb_element_visited = 0\n",
    "    current_index = 0\n",
    "    while nb_element_visited < len(array):\n",
    "        if nb_element_visited > 0 and current_index == 0:\n",
    "            return False\n",
    "        nb_element_visited += 1\n",
    "        current_index = get_next_index(array, current_index)\n",
    "    return current_index == 0\n",
    "\n",
    "def get_next_index(array, current_index):\n",
    "    nb_steps = array[current_index]\n",
    "    new_index = (current_index + nb_steps) % len(array)\n",
    "    return new_index if new_index >=0 else new_index + len(array)"
   ]
  },
  {
   "cell_type": "code",
   "execution_count": 3,
   "metadata": {},
   "outputs": [
    {
     "data": {
      "text/plain": [
       "True"
      ]
     },
     "execution_count": 3,
     "metadata": {},
     "output_type": "execute_result"
    }
   ],
   "source": [
    "test_array = [2, 3, 1, -4, -4, 2]\n",
    "hasSingleCycle(test_array) == True"
   ]
  }
 ],
 "metadata": {
  "kernelspec": {
   "display_name": "Python 3",
   "language": "python",
   "name": "python3"
  },
  "language_info": {
   "codemirror_mode": {
    "name": "ipython",
    "version": 3
   },
   "file_extension": ".py",
   "mimetype": "text/x-python",
   "name": "python",
   "nbconvert_exporter": "python",
   "pygments_lexer": "ipython3",
   "version": "3.7.3"
  }
 },
 "nbformat": 4,
 "nbformat_minor": 2
}
