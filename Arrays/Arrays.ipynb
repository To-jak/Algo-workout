{
 "cells": [
  {
   "cell_type": "markdown",
   "metadata": {},
   "source": [
    "# Arrays"
   ]
  },
  {
   "cell_type": "markdown",
   "metadata": {},
   "source": [
    "## Three number sum\n",
    "\n",
    "Write a function that takes in a non-empty array of distinct integers and an integer representing a target sum. The function should return all triplets in the array that sum up to the target sum and return a two-dimensional array of all these triplets. The numbers in each triplet should be ordered in ascending order, and the triplets themselves should be ordered in ascending order with respect to the numbers they hold. If no three numbers sum up to the target sum, the function should return an empty array."
   ]
  },
  {
   "cell_type": "code",
   "execution_count": 1,
   "metadata": {},
   "outputs": [],
   "source": [
    "def threeNumberSum(array, target):\n",
    "    array.sort()\n",
    "    triplets = []\n",
    "    for i in range(len(array) - 2):\n",
    "        left = i + 1\n",
    "        right = len(array) - 1\n",
    "        while left < right:\n",
    "            triplet_sum = array[i] + array[left] + array[right]\n",
    "            if triplet_sum == target:\n",
    "                triplets.append([array[i], array[left], array[right]])\n",
    "                left += 1\n",
    "                right -= 1\n",
    "            elif triplet_sum < target:\n",
    "                left += 1\n",
    "            elif triplet_sum > target:\n",
    "                right -=1\n",
    "    return triplets"
   ]
  },
  {
   "cell_type": "code",
   "execution_count": 2,
   "metadata": {},
   "outputs": [
    {
     "name": "stdout",
     "output_type": "stream",
     "text": [
      "True\n"
     ]
    }
   ],
   "source": [
    "test_array = [12, 3, 1, 2, -6, 5, -8, 6]\n",
    "test_output = [[-8, 2, 6], [-8, 3, 5], [-6, 1, 5]]\n",
    "\n",
    "print(threeNumberSum(test_array, 0) == test_output)"
   ]
  }
 ],
 "metadata": {
  "kernelspec": {
   "display_name": "Python 3",
   "language": "python",
   "name": "python3"
  },
  "language_info": {
   "codemirror_mode": {
    "name": "ipython",
    "version": 3
   },
   "file_extension": ".py",
   "mimetype": "text/x-python",
   "name": "python",
   "nbconvert_exporter": "python",
   "pygments_lexer": "ipython3",
   "version": "3.7.1"
  }
 },
 "nbformat": 4,
 "nbformat_minor": 2
}
