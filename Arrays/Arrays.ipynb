{
 "cells": [
  {
   "cell_type": "markdown",
   "metadata": {},
   "source": [
    "# Arrays"
   ]
  },
  {
   "cell_type": "markdown",
   "metadata": {},
   "source": [
    "## Three number sum\n",
    "\n",
    "Write a function that takes in a non-empty array of distinct integers and an integer representing a target sum. The function should return all triplets in the array that sum up to the target sum and return a two-dimensional array of all these triplets. The numbers in each triplet should be ordered in ascending order, and the triplets themselves should be ordered in ascending order with respect to the numbers they hold. If no three numbers sum up to the target sum, the function should return an empty array."
   ]
  },
  {
   "cell_type": "code",
   "execution_count": 1,
   "metadata": {},
   "outputs": [],
   "source": [
    "def threeNumberSum(array, target):\n",
    "    array.sort()\n",
    "    triplets = []\n",
    "    for i in range(len(array) - 2):\n",
    "        left = i + 1\n",
    "        right = len(array) - 1\n",
    "        while left < right:\n",
    "            triplet_sum = array[i] + array[left] + array[right]\n",
    "            if triplet_sum == target:\n",
    "                triplets.append([array[i], array[left], array[right]])\n",
    "                left += 1\n",
    "                right -= 1\n",
    "            elif triplet_sum < target:\n",
    "                left += 1\n",
    "            elif triplet_sum > target:\n",
    "                right -=1\n",
    "    return triplets"
   ]
  },
  {
   "cell_type": "code",
   "execution_count": 2,
   "metadata": {},
   "outputs": [
    {
     "name": "stdout",
     "output_type": "stream",
     "text": [
      "True\n"
     ]
    }
   ],
   "source": [
    "test_array = [12, 3, 1, 2, -6, 5, -8, 6]\n",
    "test_output = [[-8, 2, 6], [-8, 3, 5], [-6, 1, 5]]\n",
    "\n",
    "print(threeNumberSum(test_array, 0) == test_output)"
   ]
  },
  {
   "cell_type": "markdown",
   "metadata": {},
   "source": [
    "## Smallest difference"
   ]
  },
  {
   "cell_type": "code",
   "execution_count": 3,
   "metadata": {},
   "outputs": [],
   "source": [
    "def smallestDifference(arrayOne, arrayTwo):\n",
    "    arrayOne.sort()\n",
    "    arrayTwo.sort()\n",
    "    idxOne = 0\n",
    "    idxTwo = 0\n",
    "    smallest = float(\"inf\")\n",
    "    current = float(\"inf\")\n",
    "    smallestPair = []\n",
    "    while idxOne < len(arrayOne) and idxTwo < len(arrayTwo):\n",
    "        firstNum = arrayOne[idxOne]\n",
    "        secondNum = arrayTwo[idxTwo]\n",
    "        if firstNum < secondNum:\n",
    "            current = secondNum - firstNum\n",
    "            idxOne += 1\n",
    "        elif secondNum < firstNum:\n",
    "            current = firstNum - secondNum\n",
    "            idxTwo += 1\n",
    "        else:\n",
    "            return [firstNum, secondNum]\n",
    "        if smallest > current:\n",
    "            smallest = current\n",
    "            smallestPair = [firstNum, secondNum]\n",
    "    return smallestPair"
   ]
  },
  {
   "cell_type": "code",
   "execution_count": 4,
   "metadata": {},
   "outputs": [
    {
     "name": "stdout",
     "output_type": "stream",
     "text": [
      "True\n"
     ]
    }
   ],
   "source": [
    "test1, test2 = [-1, 5, 10, 20, 28, 3], [26, 134, 135, 15, 17]\n",
    "print(smallestDifference(test1, test2) == [28, 26])"
   ]
  },
  {
   "cell_type": "markdown",
   "metadata": {},
   "source": [
    "## Move element to end"
   ]
  },
  {
   "cell_type": "code",
   "execution_count": 2,
   "metadata": {},
   "outputs": [],
   "source": [
    "# O(n) time | O(1) space\n",
    "def moveElementToEnd1(array, toMove):\n",
    "    end_index = 0\n",
    "    for i in range(len(array)):\n",
    "        if array[i] == toMove:\n",
    "            continue\n",
    "        else:\n",
    "            array[end_index] = array[i]\n",
    "            end_index += 1\n",
    "    while end_index < len(array):\n",
    "        array[end_index] = toMove\n",
    "        end_index +=1\n",
    "\n",
    "    return array\n",
    "\n",
    "# O(n) time | O(1) space\n",
    "def moveElementToEnd2(array, toMove):\n",
    "    i = 0\n",
    "    j = len(array) - 1\n",
    "    while i < j:\n",
    "        while i < j and array[j] == toMove:\n",
    "            j -= 1\n",
    "        if array[i] == toMove:\n",
    "            array[i], array[j] = array[j], array[i]\n",
    "        i += 1\n",
    "    return array"
   ]
  },
  {
   "cell_type": "code",
   "execution_count": 4,
   "metadata": {},
   "outputs": [
    {
     "name": "stdout",
     "output_type": "stream",
     "text": [
      "True\n",
      "True\n"
     ]
    }
   ],
   "source": [
    "test = [2, 1, 2, 2, 2, 3, 4, 2]\n",
    "print(moveElementToEnd1(test, 2) == [1, 3, 4, 2, 2, 2, 2, 2])\n",
    "print(moveElementToEnd2(test, 2) == [1, 3, 4, 2, 2, 2, 2, 2])"
   ]
  }
 ],
 "metadata": {
  "kernelspec": {
   "display_name": "Python 3",
   "language": "python",
   "name": "python3"
  },
  "language_info": {
   "codemirror_mode": {
    "name": "ipython",
    "version": 3
   },
   "file_extension": ".py",
   "mimetype": "text/x-python",
   "name": "python",
   "nbconvert_exporter": "python",
   "pygments_lexer": "ipython3",
   "version": "3.7.1"
  }
 },
 "nbformat": 4,
 "nbformat_minor": 2
}
