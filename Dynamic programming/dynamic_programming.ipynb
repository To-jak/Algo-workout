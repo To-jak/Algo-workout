{
 "cells": [
  {
   "cell_type": "markdown",
   "metadata": {},
   "source": [
    "# Dynamic Programming"
   ]
  },
  {
   "cell_type": "markdown",
   "metadata": {},
   "source": [
    "## Max subset sum no adjacent"
   ]
  },
  {
   "cell_type": "code",
   "execution_count": 1,
   "metadata": {},
   "outputs": [],
   "source": [
    "# O(n) time | O(1) space\n",
    "def maxSubsetSumNoAdjacent(array):\n",
    "\n",
    "    if len(array) == 0:\n",
    "        return 0\n",
    "    if len(array) < 3:\n",
    "        return max(array)\n",
    "\n",
    "    max_at_2_behind = array[0]\n",
    "    max_at_1_behind = max(array[1], array[0])\n",
    "    max_at_current = 0\n",
    "\n",
    "    for i in range(2, len(array)):\n",
    "        max_at_current = max(max_at_1_behind, array[i] + max_at_2_behind)\n",
    "        max_at_2_behind, max_at_1_behind = max_at_1_behind, max_at_current\n",
    "\n",
    "    return max_at_current"
   ]
  },
  {
   "cell_type": "code",
   "execution_count": 2,
   "metadata": {},
   "outputs": [
    {
     "data": {
      "text/plain": [
       "True"
      ]
     },
     "execution_count": 2,
     "metadata": {},
     "output_type": "execute_result"
    }
   ],
   "source": [
    "test_array = [75, 105, 120, 75, 90, 135]\n",
    "maxSubsetSumNoAdjacent(test_array) == 330"
   ]
  },
  {
   "cell_type": "markdown",
   "metadata": {},
   "source": [
    "## Number of ways to make change"
   ]
  },
  {
   "cell_type": "code",
   "execution_count": 1,
   "metadata": {},
   "outputs": [],
   "source": [
    "def numberOfWaysToMakeChange(n, denoms):\n",
    "    ways = [0 for _ in range(n+1)]\n",
    "    ways[0] = 1\n",
    "    for denom in denoms:\n",
    "        for target in range(1, n+1):\n",
    "            if denom <= target:\n",
    "                ways[target] += ways[target - denom]\n",
    "    return ways[n]"
   ]
  },
  {
   "cell_type": "code",
   "execution_count": 2,
   "metadata": {},
   "outputs": [
    {
     "data": {
      "text/plain": [
       "True"
      ]
     },
     "execution_count": 2,
     "metadata": {},
     "output_type": "execute_result"
    }
   ],
   "source": [
    "numberOfWaysToMakeChange(6, [1, 5]) == 2"
   ]
  },
  {
   "cell_type": "markdown",
   "metadata": {},
   "source": [
    "## Min number of coins for change"
   ]
  },
  {
   "cell_type": "code",
   "execution_count": 3,
   "metadata": {},
   "outputs": [],
   "source": [
    "def minNumberOfCoinsForChange(n, denoms):\n",
    "    min_nums = [float('inf') for _ in range(n+1)]\n",
    "    min_nums[0] = 0\n",
    "    for denom in denoms:\n",
    "        for target in range(1, n+1):\n",
    "            if denom <= target:\n",
    "                min_nums[target] = min(min_nums[target],\n",
    "                                       min_nums[target - denom] + 1)\n",
    "    return min_nums[n] if min_nums[n] != float('inf') else -1"
   ]
  },
  {
   "cell_type": "code",
   "execution_count": 4,
   "metadata": {},
   "outputs": [
    {
     "data": {
      "text/plain": [
       "True"
      ]
     },
     "execution_count": 4,
     "metadata": {},
     "output_type": "execute_result"
    }
   ],
   "source": [
    "minNumberOfCoinsForChange(7, [1, 5, 10]) == 3"
   ]
  }
 ],
 "metadata": {
  "kernelspec": {
   "display_name": "Python 3",
   "language": "python",
   "name": "python3"
  },
  "language_info": {
   "codemirror_mode": {
    "name": "ipython",
    "version": 3
   },
   "file_extension": ".py",
   "mimetype": "text/x-python",
   "name": "python",
   "nbconvert_exporter": "python",
   "pygments_lexer": "ipython3",
   "version": "3.7.3"
  }
 },
 "nbformat": 4,
 "nbformat_minor": 2
}
