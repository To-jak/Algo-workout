{
 "cells": [
  {
   "cell_type": "markdown",
   "metadata": {},
   "source": [
    "# Searching"
   ]
  },
  {
   "cell_type": "markdown",
   "metadata": {},
   "source": [
    "## Binary search"
   ]
  },
  {
   "cell_type": "markdown",
   "metadata": {},
   "source": [
    "Write a function that takes in a sorted array of integers as well as a target integer. The function should use the Binary Search algorithm to nd if the target number is contained in the array and should return its index if it is, otherwise -1."
   ]
  },
  {
   "cell_type": "code",
   "execution_count": 1,
   "metadata": {},
   "outputs": [],
   "source": [
    "def binarySearch(array, target):\n",
    "\n",
    "    lower_index = 0\n",
    "    upper_index = len(array) - 1\n",
    "    middle_index = (upper_index + lower_index) // 2\n",
    "\n",
    "    while array[middle_index] != target:\n",
    "        if array[middle_index] > target:\n",
    "            upper_index = middle_index - 1\n",
    "        else:\n",
    "            lower_index = middle_index + 1\n",
    "\n",
    "        if(upper_index < lower_index):\n",
    "            return -1\n",
    "\n",
    "        middle_index = (upper_index + lower_index) // 2\n",
    "\n",
    "    return middle_index"
   ]
  },
  {
   "cell_type": "code",
   "execution_count": 2,
   "metadata": {},
   "outputs": [
    {
     "name": "stdout",
     "output_type": "stream",
     "text": [
      "True\n",
      "True\n"
     ]
    }
   ],
   "source": [
    "test_array =  [0, 1, 21, 33, 45, 45, 61, 71, 72, 73]\n",
    "\n",
    "print(binarySearch(test_array, 33) == 3)\n",
    "print(binarySearch(test_array, 42) == -1)"
   ]
  }
 ],
 "metadata": {
  "kernelspec": {
   "display_name": "Python 3",
   "language": "python",
   "name": "python3"
  },
  "language_info": {
   "codemirror_mode": {
    "name": "ipython",
    "version": 3
   },
   "file_extension": ".py",
   "mimetype": "text/x-python",
   "name": "python",
   "nbconvert_exporter": "python",
   "pygments_lexer": "ipython3",
   "version": "3.7.1"
  }
 },
 "nbformat": 4,
 "nbformat_minor": 2
}
